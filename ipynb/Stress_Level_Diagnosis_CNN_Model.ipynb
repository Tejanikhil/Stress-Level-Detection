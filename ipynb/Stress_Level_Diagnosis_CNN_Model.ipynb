{
  "cells": [
    {
      "cell_type": "markdown",
      "metadata": {
        "id": "view-in-github",
        "colab_type": "text"
      },
      "source": [
        "<a href=\"https://colab.research.google.com/github/KavyaD02/Continuous_Speech_Stress_Detection/blob/main/Stress_Level_Diagnosis_CNN_Model.ipynb\" target=\"_parent\"><img src=\"https://colab.research.google.com/assets/colab-badge.svg\" alt=\"Open In Colab\"/></a>"
      ]
    },
    {
      "cell_type": "code",
      "execution_count": null,
      "id": "1776c86a",
      "metadata": {
        "ExecuteTime": {
          "end_time": "2023-05-24T15:38:34.586326Z",
          "start_time": "2023-05-24T15:38:31.872214Z"
        },
        "id": "1776c86a",
        "outputId": "b666976a-1378-4506-e681-96385a58af35"
      },
      "outputs": [
        {
          "name": "stderr",
          "output_type": "stream",
          "text": [
            "C:\\Users\\Kavya Duvvuri\\anaconda3\\lib\\site-packages\\pydub\\utils.py:170: RuntimeWarning: Couldn't find ffmpeg or avconv - defaulting to ffmpeg, but may not work\n",
            "  warn(\"Couldn't find ffmpeg or avconv - defaulting to ffmpeg, but may not work\", RuntimeWarning)\n"
          ]
        }
      ],
      "source": [
        "import numpy as np\n",
        "import pandas as pd\n",
        "import os\n",
        "import librosa\n",
        "import librosa.display\n",
        "from pydub.silence import split_on_silence\n",
        "from pydub import AudioSegment, effects \n",
        "from scipy.io.wavfile import read, write"
      ]
    },
    {
      "cell_type": "markdown",
      "id": "8357591b",
      "metadata": {
        "ExecuteTime": {
          "end_time": "2023-04-20T16:44:25.934290Z",
          "start_time": "2023-04-20T16:44:25.927278Z"
        },
        "id": "8357591b"
      },
      "source": [
        "def preprocess_audio(audio_file_name):\n",
        "\n",
        "    audio_file, sr = librosa.load(audio_file_name)\n",
        "    \n",
        "    audio_file = librosa.effects.preemphasis(audio_file)\n",
        "    audio_file = librosa.effects.trim(audio_file, top_db=20)[0]\n",
        "    audio_file = librosa.util.normalize(audio_file)\n",
        "    \n",
        "    return sr, audio_file"
      ]
    },
    {
      "cell_type": "code",
      "execution_count": null,
      "id": "4d2fd3e7",
      "metadata": {
        "ExecuteTime": {
          "end_time": "2023-05-24T15:38:34.602270Z",
          "start_time": "2023-05-24T15:38:34.589310Z"
        },
        "id": "4d2fd3e7"
      },
      "outputs": [],
      "source": [
        "DATA_PATH = \"./Data/\"\n",
        "\n",
        "def get_file_names(path = DATA_PATH):\n",
        "    file_names = os.listdir(path)\n",
        "    return file_names"
      ]
    },
    {
      "cell_type": "markdown",
      "id": "186a9749",
      "metadata": {
        "ExecuteTime": {
          "end_time": "2023-04-20T16:44:27.555662Z",
          "start_time": "2023-04-20T16:44:27.545343Z"
        },
        "id": "186a9749"
      },
      "source": [
        "def process_audio(audio_file_name):\n",
        "    rate, audio = read(f\"./Data/{audio_file_name}\")\n",
        "\n",
        "    aud = AudioSegment(audio.tobytes(), frame_rate = rate,\n",
        "                         sample_width = audio.dtype.itemsize, channels = 1)\n",
        "\n",
        "    audio_chunks = split_on_silence(\n",
        "        aud,\n",
        "        min_silence_len = 1000,\n",
        "        silence_thresh = -50,\n",
        "        keep_silence = 500,)\n",
        "    \n",
        "    # audio chunks are combined here\n",
        "    audio_processed = sum(audio_chunks)\n",
        "    audio_processed = np.array(audio_processed.get_array_of_samples())\n",
        "    audio_file = audio_file_name.split(\".\")[0]\n",
        "    write(f\"./Processed Data/{audio_file}_PROCESSED.wav\", rate, audio_processed)"
      ]
    },
    {
      "cell_type": "markdown",
      "id": "84d97da1",
      "metadata": {
        "ExecuteTime": {
          "end_time": "2023-04-20T18:11:06.342210Z",
          "start_time": "2023-04-20T16:44:29.620567Z"
        },
        "scrolled": true,
        "id": "84d97da1"
      },
      "source": [
        "file_names = get_file_names()\n",
        "for file_name in file_names:\n",
        "    process_audio(file_name)\n",
        "print(\"Done\")"
      ]
    },
    {
      "cell_type": "code",
      "execution_count": null,
      "id": "de9d19f5",
      "metadata": {
        "ExecuteTime": {
          "end_time": "2023-05-24T15:38:37.254967Z",
          "start_time": "2023-05-24T15:38:37.242342Z"
        },
        "id": "de9d19f5"
      },
      "outputs": [],
      "source": [
        "def get_label_dict(df, file_list, test=False):\n",
        "    label_dict = {}\n",
        "    \n",
        "    if test:\n",
        "        df_list = df['PHQ_Score']\n",
        "    else:\n",
        "        df_list = df['PHQ8_Score']\n",
        "\n",
        "    for file in file_list:\n",
        "        patient_num = int(file.split(\"/\")[-1].split(\"_\")[0])\n",
        "\n",
        "        patient_list = list(df['Participant_ID'])\n",
        "\n",
        "        idx = patient_list.index(patient_num)\n",
        "\n",
        "        phq8_score = int(df_list[idx])\n",
        "        \n",
        "        if phq8_score in range(0, 6):\n",
        "            score = 0\n",
        "        elif phq8_score in range(6, 15):\n",
        "            score = 1\n",
        "        elif phq8_score in range(15, 22):\n",
        "            score = 2\n",
        "        elif phq8_score in range(22, 28):\n",
        "            score = 3\n",
        "\n",
        "        label_dict[f\"{file}\"] = score\n",
        "    \n",
        "    return label_dict"
      ]
    },
    {
      "cell_type": "code",
      "execution_count": null,
      "id": "30f79145",
      "metadata": {
        "ExecuteTime": {
          "end_time": "2023-05-24T15:38:38.377551Z",
          "start_time": "2023-05-24T15:38:38.360605Z"
        },
        "id": "30f79145"
      },
      "outputs": [],
      "source": [
        "def get_set(df):\n",
        "    df_files = [f\"./Processed Data/{x}_AUDIO_PROCESSED.wav\" for x in df['Participant_ID']]\n",
        "\n",
        "    return list(set(df_files))"
      ]
    },
    {
      "cell_type": "code",
      "execution_count": null,
      "id": "419997f2",
      "metadata": {
        "ExecuteTime": {
          "end_time": "2023-05-24T15:38:39.629162Z",
          "start_time": "2023-05-24T15:38:39.565344Z"
        },
        "id": "419997f2"
      },
      "outputs": [],
      "source": [
        "train_df, test_df, val_df = pd.read_csv(f\"./train.csv\"), pd.read_csv(f\"./test.csv\"), pd.read_csv(f\"./val.csv\")\n",
        "\n",
        "train, test, val = get_set(train_df), get_set(test_df), get_set(val_df)"
      ]
    },
    {
      "cell_type": "code",
      "execution_count": null,
      "id": "b306fa6c",
      "metadata": {
        "ExecuteTime": {
          "end_time": "2023-05-24T15:38:40.004055Z",
          "start_time": "2023-05-24T15:38:39.990347Z"
        },
        "id": "b306fa6c"
      },
      "outputs": [],
      "source": [
        "train_dict, test_dict, val_dict = get_label_dict(train_df, train), get_label_dict(test_df, test, True), get_label_dict(val_df, val)\n",
        "data_dict = {**train_dict, **test_dict, **val_dict}"
      ]
    },
    {
      "cell_type": "code",
      "execution_count": null,
      "id": "84c52676",
      "metadata": {
        "ExecuteTime": {
          "end_time": "2023-05-24T15:38:40.391077Z",
          "start_time": "2023-05-24T15:38:40.384144Z"
        },
        "id": "84c52676"
      },
      "outputs": [],
      "source": [
        "PROCESSED_DATA_PATH = \"./Processed Data/\""
      ]
    },
    {
      "cell_type": "code",
      "execution_count": null,
      "id": "83aa0a8e",
      "metadata": {
        "ExecuteTime": {
          "end_time": "2023-05-24T15:38:40.701398Z",
          "start_time": "2023-05-24T15:38:40.683114Z"
        },
        "id": "83aa0a8e"
      },
      "outputs": [],
      "source": [
        "data_list = list(data_dict.keys())\n",
        "label_list = list(data_dict.values())"
      ]
    },
    {
      "cell_type": "code",
      "execution_count": null,
      "id": "88799bb9",
      "metadata": {
        "ExecuteTime": {
          "end_time": "2023-05-24T15:38:41.619434Z",
          "start_time": "2023-05-24T15:38:41.545968Z"
        },
        "id": "88799bb9"
      },
      "outputs": [],
      "source": [
        "new_data_list = []\n",
        "new_label_list = []\n",
        "for data in data_list:\n",
        "    audios = os.listdir(PROCESSED_DATA_PATH)\n",
        "    data_2 = data.split('/')[2]\n",
        "    if data_2 in audios:\n",
        "        new_data_list.append(data)\n",
        "        new_label_list.append(label_list[data_list.index(data)])"
      ]
    },
    {
      "cell_type": "code",
      "execution_count": null,
      "id": "17843f3f",
      "metadata": {
        "ExecuteTime": {
          "end_time": "2023-05-24T15:40:25.932829Z",
          "start_time": "2023-05-24T15:40:25.903915Z"
        },
        "id": "17843f3f",
        "outputId": "9ebf0d27-d16d-4530-ab71-66fa35cb9720"
      },
      "outputs": [
        {
          "name": "stdout",
          "output_type": "stream",
          "text": [
            "64\n"
          ]
        }
      ],
      "source": [
        "csv_path = \"./Combined Features.csv\"\n",
        "combined_df = pd.read_csv(csv_path)\n",
        "combined = list(combined_df[\"Combined\"])\n",
        "combined_features = []\n",
        "for i in combined:\n",
        "    new_i = i.replace('\\n', ' ')\n",
        "    new_i = new_i.replace('[', '')\n",
        "    new_i = new_i.replace(']', '')\n",
        "    array_data = np.fromstring(new_i, dtype=np.float64, sep=' ')\n",
        "    combined_features.append(array_data)\n",
        "print(len(combined_features[0]))"
      ]
    },
    {
      "cell_type": "code",
      "execution_count": null,
      "id": "6fe201f3",
      "metadata": {
        "ExecuteTime": {
          "end_time": "2023-05-24T15:40:31.572691Z",
          "start_time": "2023-05-24T15:40:31.563579Z"
        },
        "id": "6fe201f3"
      },
      "outputs": [],
      "source": [
        "X = np.array(combined_features).reshape(186, 64, 1)"
      ]
    },
    {
      "cell_type": "code",
      "execution_count": null,
      "id": "dcf2cd19",
      "metadata": {
        "ExecuteTime": {
          "end_time": "2023-05-24T15:40:32.145919Z",
          "start_time": "2023-05-24T15:40:32.137808Z"
        },
        "id": "dcf2cd19"
      },
      "outputs": [],
      "source": [
        "Y = np.array(new_label_list)"
      ]
    },
    {
      "cell_type": "code",
      "execution_count": null,
      "id": "671bbfd8",
      "metadata": {
        "ExecuteTime": {
          "end_time": "2023-05-24T15:40:36.911213Z",
          "start_time": "2023-05-24T15:40:32.696759Z"
        },
        "id": "671bbfd8"
      },
      "outputs": [],
      "source": [
        "from sklearn.model_selection import train_test_split\n",
        "from tensorflow.keras.utils import to_categorical\n",
        "from tensorflow.keras.layers import Conv1D, MaxPooling1D, GlobalMaxPooling1D, Flatten, Dense, Dropout\n",
        "from tensorflow.keras.models import Sequential"
      ]
    },
    {
      "cell_type": "code",
      "execution_count": null,
      "id": "d2d812b1",
      "metadata": {
        "ExecuteTime": {
          "end_time": "2023-05-24T15:40:36.927170Z",
          "start_time": "2023-05-24T15:40:36.913213Z"
        },
        "id": "d2d812b1"
      },
      "outputs": [],
      "source": [
        "train_X, test_X, train_Y, test_Y = train_test_split(X, Y, test_size = 0.20)"
      ]
    },
    {
      "cell_type": "code",
      "execution_count": null,
      "id": "a8a302bc",
      "metadata": {
        "ExecuteTime": {
          "end_time": "2023-05-24T15:44:26.665765Z",
          "start_time": "2023-05-24T15:44:26.554745Z"
        },
        "id": "a8a302bc"
      },
      "outputs": [],
      "source": [
        "model = Sequential()\n",
        "model.add(Conv1D(filters=32, kernel_size=2, activation='relu', input_shape=(64,1)))\n",
        "model.add(MaxPooling1D(pool_size=2))\n",
        "model.add(Dropout(0.2))\n",
        "model.add(Conv1D(filters=64, kernel_size=2, activation='relu'))\n",
        "model.add(MaxPooling1D(pool_size=2))\n",
        "model.add(Dropout(0.2))\n",
        "model.add(Flatten())\n",
        "model.add(Dense(64, activation='relu'))\n",
        "model.add(Dense(32, activation='relu'))\n",
        "model.add(Dense(4, activation='softmax'))"
      ]
    },
    {
      "cell_type": "code",
      "execution_count": null,
      "id": "115f92b6",
      "metadata": {
        "ExecuteTime": {
          "end_time": "2023-05-24T15:46:08.762634Z",
          "start_time": "2023-05-24T15:45:56.698404Z"
        },
        "id": "115f92b6",
        "outputId": "9a96bcb7-8de4-404c-fcbb-03953d7acbe1"
      },
      "outputs": [
        {
          "name": "stdout",
          "output_type": "stream",
          "text": [
            "Epoch 1/200\n",
            "5/5 [==============================] - 1s 53ms/step - loss: 0.7448 - accuracy: 0.6014 - val_loss: 1.2087 - val_accuracy: 0.4737\n",
            "Epoch 2/200\n",
            "5/5 [==============================] - 0s 11ms/step - loss: 0.6966 - accuracy: 0.6351 - val_loss: 1.2237 - val_accuracy: 0.4737\n",
            "Epoch 3/200\n",
            "5/5 [==============================] - 0s 11ms/step - loss: 0.7514 - accuracy: 0.6824 - val_loss: 1.3022 - val_accuracy: 0.4737\n",
            "Epoch 4/200\n",
            "5/5 [==============================] - 0s 11ms/step - loss: 0.7380 - accuracy: 0.6892 - val_loss: 1.2830 - val_accuracy: 0.4211\n",
            "Epoch 5/200\n",
            "5/5 [==============================] - 0s 14ms/step - loss: 0.6495 - accuracy: 0.6622 - val_loss: 1.2224 - val_accuracy: 0.4474\n",
            "Epoch 6/200\n",
            "5/5 [==============================] - 0s 12ms/step - loss: 0.6658 - accuracy: 0.6824 - val_loss: 1.2492 - val_accuracy: 0.4474\n",
            "Epoch 7/200\n",
            "5/5 [==============================] - 0s 12ms/step - loss: 0.6910 - accuracy: 0.6554 - val_loss: 1.3651 - val_accuracy: 0.3684\n",
            "Epoch 8/200\n",
            "5/5 [==============================] - 0s 11ms/step - loss: 0.6786 - accuracy: 0.6689 - val_loss: 1.3474 - val_accuracy: 0.4474\n",
            "Epoch 9/200\n",
            "5/5 [==============================] - 0s 11ms/step - loss: 0.6362 - accuracy: 0.6959 - val_loss: 1.2821 - val_accuracy: 0.4737\n",
            "Epoch 10/200\n",
            "5/5 [==============================] - 0s 11ms/step - loss: 0.7105 - accuracy: 0.6824 - val_loss: 1.2233 - val_accuracy: 0.5526\n",
            "Epoch 11/200\n",
            "5/5 [==============================] - 0s 11ms/step - loss: 0.6851 - accuracy: 0.6757 - val_loss: 1.3162 - val_accuracy: 0.4737\n",
            "Epoch 12/200\n",
            "5/5 [==============================] - 0s 11ms/step - loss: 0.6257 - accuracy: 0.7027 - val_loss: 1.3092 - val_accuracy: 0.3947\n",
            "Epoch 13/200\n",
            "5/5 [==============================] - 0s 11ms/step - loss: 0.6408 - accuracy: 0.7027 - val_loss: 1.2602 - val_accuracy: 0.4474\n",
            "Epoch 14/200\n",
            "5/5 [==============================] - 0s 11ms/step - loss: 0.6965 - accuracy: 0.6959 - val_loss: 1.2753 - val_accuracy: 0.4737\n",
            "Epoch 15/200\n",
            "5/5 [==============================] - 0s 12ms/step - loss: 0.6273 - accuracy: 0.6959 - val_loss: 1.3033 - val_accuracy: 0.4474\n",
            "Epoch 16/200\n",
            "5/5 [==============================] - 0s 12ms/step - loss: 0.6480 - accuracy: 0.7095 - val_loss: 1.3091 - val_accuracy: 0.4211\n",
            "Epoch 17/200\n",
            "5/5 [==============================] - 0s 11ms/step - loss: 0.6985 - accuracy: 0.6757 - val_loss: 1.3937 - val_accuracy: 0.3421\n",
            "Epoch 18/200\n",
            "5/5 [==============================] - 0s 12ms/step - loss: 0.6390 - accuracy: 0.7230 - val_loss: 1.3806 - val_accuracy: 0.3421\n",
            "Epoch 19/200\n",
            "5/5 [==============================] - 0s 11ms/step - loss: 0.6648 - accuracy: 0.6351 - val_loss: 1.2904 - val_accuracy: 0.3947\n",
            "Epoch 20/200\n",
            "5/5 [==============================] - 0s 11ms/step - loss: 0.6356 - accuracy: 0.7027 - val_loss: 1.2920 - val_accuracy: 0.4474\n",
            "Epoch 21/200\n",
            "5/5 [==============================] - 0s 12ms/step - loss: 0.6633 - accuracy: 0.6959 - val_loss: 1.2791 - val_accuracy: 0.4474\n",
            "Epoch 22/200\n",
            "5/5 [==============================] - 0s 11ms/step - loss: 0.5945 - accuracy: 0.7432 - val_loss: 1.3148 - val_accuracy: 0.4211\n",
            "Epoch 23/200\n",
            "5/5 [==============================] - 0s 12ms/step - loss: 0.7013 - accuracy: 0.6824 - val_loss: 1.3633 - val_accuracy: 0.3158\n",
            "Epoch 24/200\n",
            "5/5 [==============================] - 0s 12ms/step - loss: 0.6218 - accuracy: 0.7162 - val_loss: 1.3001 - val_accuracy: 0.4474\n",
            "Epoch 25/200\n",
            "5/5 [==============================] - 0s 12ms/step - loss: 0.6462 - accuracy: 0.7162 - val_loss: 1.3033 - val_accuracy: 0.5000\n",
            "Epoch 26/200\n",
            "5/5 [==============================] - 0s 13ms/step - loss: 0.6799 - accuracy: 0.6757 - val_loss: 1.2913 - val_accuracy: 0.4211\n",
            "Epoch 27/200\n",
            "5/5 [==============================] - 0s 12ms/step - loss: 0.5676 - accuracy: 0.7162 - val_loss: 1.3197 - val_accuracy: 0.4474\n",
            "Epoch 28/200\n",
            "5/5 [==============================] - 0s 12ms/step - loss: 0.6573 - accuracy: 0.7027 - val_loss: 1.3713 - val_accuracy: 0.4211\n",
            "Epoch 29/200\n",
            "5/5 [==============================] - 0s 12ms/step - loss: 0.5905 - accuracy: 0.7297 - val_loss: 1.4217 - val_accuracy: 0.3947\n",
            "Epoch 30/200\n",
            "5/5 [==============================] - 0s 12ms/step - loss: 0.6394 - accuracy: 0.7162 - val_loss: 1.3829 - val_accuracy: 0.3947\n",
            "Epoch 31/200\n",
            "5/5 [==============================] - 0s 12ms/step - loss: 0.5842 - accuracy: 0.7568 - val_loss: 1.3439 - val_accuracy: 0.4474\n",
            "Epoch 32/200\n",
            "5/5 [==============================] - 0s 11ms/step - loss: 0.5676 - accuracy: 0.7027 - val_loss: 1.3623 - val_accuracy: 0.4211\n",
            "Epoch 33/200\n",
            "5/5 [==============================] - 0s 12ms/step - loss: 0.5930 - accuracy: 0.6824 - val_loss: 1.3708 - val_accuracy: 0.3947\n",
            "Epoch 34/200\n",
            "5/5 [==============================] - 0s 12ms/step - loss: 0.6099 - accuracy: 0.6892 - val_loss: 1.3048 - val_accuracy: 0.3947\n",
            "Epoch 35/200\n",
            "5/5 [==============================] - 0s 12ms/step - loss: 0.5763 - accuracy: 0.7297 - val_loss: 1.3549 - val_accuracy: 0.3947\n",
            "Epoch 36/200\n",
            "5/5 [==============================] - 0s 12ms/step - loss: 0.6430 - accuracy: 0.6892 - val_loss: 1.4982 - val_accuracy: 0.3421\n",
            "Epoch 37/200\n",
            "5/5 [==============================] - 0s 12ms/step - loss: 0.6532 - accuracy: 0.7162 - val_loss: 1.4000 - val_accuracy: 0.3684\n",
            "Epoch 38/200\n",
            "5/5 [==============================] - 0s 11ms/step - loss: 0.5512 - accuracy: 0.7973 - val_loss: 1.4319 - val_accuracy: 0.4211\n",
            "Epoch 39/200\n",
            "5/5 [==============================] - 0s 11ms/step - loss: 0.6023 - accuracy: 0.7230 - val_loss: 1.3973 - val_accuracy: 0.4474\n",
            "Epoch 40/200\n",
            "5/5 [==============================] - 0s 11ms/step - loss: 0.5576 - accuracy: 0.7770 - val_loss: 1.2951 - val_accuracy: 0.4737\n",
            "Epoch 41/200\n",
            "5/5 [==============================] - 0s 14ms/step - loss: 0.6032 - accuracy: 0.7027 - val_loss: 1.3813 - val_accuracy: 0.3684\n",
            "Epoch 42/200\n",
            "5/5 [==============================] - 0s 12ms/step - loss: 0.5465 - accuracy: 0.7432 - val_loss: 1.3760 - val_accuracy: 0.4474\n",
            "Epoch 43/200\n",
            "5/5 [==============================] - 0s 12ms/step - loss: 0.5763 - accuracy: 0.7027 - val_loss: 1.2667 - val_accuracy: 0.4737\n",
            "Epoch 44/200\n",
            "5/5 [==============================] - 0s 11ms/step - loss: 0.5816 - accuracy: 0.6892 - val_loss: 1.3143 - val_accuracy: 0.4474\n",
            "Epoch 45/200\n",
            "5/5 [==============================] - 0s 13ms/step - loss: 0.6006 - accuracy: 0.7297 - val_loss: 1.4395 - val_accuracy: 0.2895\n",
            "Epoch 46/200\n",
            "5/5 [==============================] - 0s 12ms/step - loss: 0.5703 - accuracy: 0.7162 - val_loss: 1.5318 - val_accuracy: 0.3684\n",
            "Epoch 47/200\n",
            "5/5 [==============================] - 0s 11ms/step - loss: 0.5120 - accuracy: 0.7838 - val_loss: 1.4557 - val_accuracy: 0.4474\n",
            "Epoch 48/200\n",
            "5/5 [==============================] - 0s 12ms/step - loss: 0.5551 - accuracy: 0.7432 - val_loss: 1.4242 - val_accuracy: 0.3421\n",
            "Epoch 49/200\n",
            "5/5 [==============================] - 0s 12ms/step - loss: 0.5709 - accuracy: 0.7365 - val_loss: 1.4440 - val_accuracy: 0.3421\n",
            "Epoch 50/200\n",
            "5/5 [==============================] - 0s 11ms/step - loss: 0.5865 - accuracy: 0.7230 - val_loss: 1.3963 - val_accuracy: 0.4474\n",
            "Epoch 51/200\n",
            "5/5 [==============================] - 0s 11ms/step - loss: 0.5552 - accuracy: 0.7432 - val_loss: 1.3841 - val_accuracy: 0.4474\n",
            "Epoch 52/200\n",
            "5/5 [==============================] - 0s 12ms/step - loss: 0.5834 - accuracy: 0.7095 - val_loss: 1.4401 - val_accuracy: 0.4737\n",
            "Epoch 53/200\n",
            "5/5 [==============================] - 0s 12ms/step - loss: 0.4819 - accuracy: 0.7973 - val_loss: 1.5646 - val_accuracy: 0.3947\n",
            "Epoch 54/200\n",
            "5/5 [==============================] - 0s 13ms/step - loss: 0.5531 - accuracy: 0.7297 - val_loss: 1.6649 - val_accuracy: 0.4211\n",
            "Epoch 55/200\n",
            "5/5 [==============================] - 0s 11ms/step - loss: 0.5179 - accuracy: 0.7838 - val_loss: 1.5790 - val_accuracy: 0.4474\n",
            "Epoch 56/200\n",
            "5/5 [==============================] - 0s 11ms/step - loss: 0.5216 - accuracy: 0.7703 - val_loss: 1.4091 - val_accuracy: 0.4737\n",
            "Epoch 57/200\n",
            "5/5 [==============================] - 0s 12ms/step - loss: 0.4926 - accuracy: 0.7635 - val_loss: 1.4665 - val_accuracy: 0.4474\n",
            "Epoch 58/200\n",
            "5/5 [==============================] - 0s 11ms/step - loss: 0.4678 - accuracy: 0.8311 - val_loss: 1.6726 - val_accuracy: 0.4737\n",
            "Epoch 59/200\n"
          ]
        },
        {
          "name": "stdout",
          "output_type": "stream",
          "text": [
            "5/5 [==============================] - 0s 12ms/step - loss: 0.6049 - accuracy: 0.7500 - val_loss: 1.5924 - val_accuracy: 0.4737\n",
            "Epoch 60/200\n",
            "5/5 [==============================] - 0s 12ms/step - loss: 0.5252 - accuracy: 0.7500 - val_loss: 1.3386 - val_accuracy: 0.4211\n",
            "Epoch 61/200\n",
            "5/5 [==============================] - 0s 12ms/step - loss: 0.6002 - accuracy: 0.6824 - val_loss: 1.3157 - val_accuracy: 0.5000\n",
            "Epoch 62/200\n",
            "5/5 [==============================] - 0s 12ms/step - loss: 0.5369 - accuracy: 0.7905 - val_loss: 1.5637 - val_accuracy: 0.4737\n",
            "Epoch 63/200\n",
            "5/5 [==============================] - 0s 12ms/step - loss: 0.6264 - accuracy: 0.7095 - val_loss: 1.4719 - val_accuracy: 0.4211\n",
            "Epoch 64/200\n",
            "5/5 [==============================] - 0s 12ms/step - loss: 0.6712 - accuracy: 0.7162 - val_loss: 1.3199 - val_accuracy: 0.5000\n",
            "Epoch 65/200\n",
            "5/5 [==============================] - 0s 12ms/step - loss: 0.6031 - accuracy: 0.7297 - val_loss: 1.3380 - val_accuracy: 0.4474\n",
            "Epoch 66/200\n",
            "5/5 [==============================] - 0s 12ms/step - loss: 0.5264 - accuracy: 0.7703 - val_loss: 1.5835 - val_accuracy: 0.2895\n",
            "Epoch 67/200\n",
            "5/5 [==============================] - 0s 12ms/step - loss: 0.5574 - accuracy: 0.7838 - val_loss: 1.4876 - val_accuracy: 0.3947\n",
            "Epoch 68/200\n",
            "5/5 [==============================] - 0s 12ms/step - loss: 0.5197 - accuracy: 0.7500 - val_loss: 1.3616 - val_accuracy: 0.4474\n",
            "Epoch 69/200\n",
            "5/5 [==============================] - 0s 12ms/step - loss: 0.5124 - accuracy: 0.7568 - val_loss: 1.4128 - val_accuracy: 0.4211\n",
            "Epoch 70/200\n",
            "5/5 [==============================] - 0s 12ms/step - loss: 0.4677 - accuracy: 0.8041 - val_loss: 1.4160 - val_accuracy: 0.4474\n",
            "Epoch 71/200\n",
            "5/5 [==============================] - 0s 11ms/step - loss: 0.5002 - accuracy: 0.7703 - val_loss: 1.4453 - val_accuracy: 0.3947\n",
            "Epoch 72/200\n",
            "5/5 [==============================] - 0s 13ms/step - loss: 0.4262 - accuracy: 0.8378 - val_loss: 1.5092 - val_accuracy: 0.3684\n",
            "Epoch 73/200\n",
            "5/5 [==============================] - 0s 13ms/step - loss: 0.4439 - accuracy: 0.8446 - val_loss: 1.5322 - val_accuracy: 0.3684\n",
            "Epoch 74/200\n",
            "5/5 [==============================] - 0s 12ms/step - loss: 0.4308 - accuracy: 0.8514 - val_loss: 1.5685 - val_accuracy: 0.4211\n",
            "Epoch 75/200\n",
            "5/5 [==============================] - 0s 13ms/step - loss: 0.5220 - accuracy: 0.7635 - val_loss: 1.5609 - val_accuracy: 0.3947\n",
            "Epoch 76/200\n",
            "5/5 [==============================] - 0s 12ms/step - loss: 0.4471 - accuracy: 0.7905 - val_loss: 1.5106 - val_accuracy: 0.4474\n",
            "Epoch 77/200\n",
            "5/5 [==============================] - 0s 12ms/step - loss: 0.5290 - accuracy: 0.7770 - val_loss: 1.4695 - val_accuracy: 0.5000\n",
            "Epoch 78/200\n",
            "5/5 [==============================] - 0s 12ms/step - loss: 0.5207 - accuracy: 0.7703 - val_loss: 1.3904 - val_accuracy: 0.4737\n",
            "Epoch 79/200\n",
            "5/5 [==============================] - 0s 13ms/step - loss: 0.4855 - accuracy: 0.7568 - val_loss: 1.4085 - val_accuracy: 0.4474\n",
            "Epoch 80/200\n",
            "5/5 [==============================] - 0s 12ms/step - loss: 0.4891 - accuracy: 0.7973 - val_loss: 1.4750 - val_accuracy: 0.3947\n",
            "Epoch 81/200\n",
            "5/5 [==============================] - 0s 12ms/step - loss: 0.4166 - accuracy: 0.8243 - val_loss: 1.4465 - val_accuracy: 0.3947\n",
            "Epoch 82/200\n",
            "5/5 [==============================] - 0s 15ms/step - loss: 0.5027 - accuracy: 0.7973 - val_loss: 1.4715 - val_accuracy: 0.3947\n",
            "Epoch 83/200\n",
            "5/5 [==============================] - 0s 11ms/step - loss: 0.4614 - accuracy: 0.8041 - val_loss: 1.5660 - val_accuracy: 0.4474\n",
            "Epoch 84/200\n",
            "5/5 [==============================] - 0s 11ms/step - loss: 0.4425 - accuracy: 0.8108 - val_loss: 1.5815 - val_accuracy: 0.4474\n",
            "Epoch 85/200\n",
            "5/5 [==============================] - 0s 12ms/step - loss: 0.4951 - accuracy: 0.7973 - val_loss: 1.5388 - val_accuracy: 0.4211\n",
            "Epoch 86/200\n",
            "5/5 [==============================] - 0s 12ms/step - loss: 0.4793 - accuracy: 0.8176 - val_loss: 1.4592 - val_accuracy: 0.5000\n",
            "Epoch 87/200\n",
            "5/5 [==============================] - 0s 12ms/step - loss: 0.4212 - accuracy: 0.8514 - val_loss: 1.5284 - val_accuracy: 0.4474\n",
            "Epoch 88/200\n",
            "5/5 [==============================] - 0s 12ms/step - loss: 0.4152 - accuracy: 0.8581 - val_loss: 1.5474 - val_accuracy: 0.4211\n",
            "Epoch 89/200\n",
            "5/5 [==============================] - 0s 12ms/step - loss: 0.4910 - accuracy: 0.7973 - val_loss: 1.5595 - val_accuracy: 0.4474\n",
            "Epoch 90/200\n",
            "5/5 [==============================] - 0s 12ms/step - loss: 0.4548 - accuracy: 0.8041 - val_loss: 1.7420 - val_accuracy: 0.3684\n",
            "Epoch 91/200\n",
            "5/5 [==============================] - 0s 12ms/step - loss: 0.4789 - accuracy: 0.7905 - val_loss: 1.8022 - val_accuracy: 0.3158\n",
            "Epoch 92/200\n",
            "5/5 [==============================] - 0s 12ms/step - loss: 0.4691 - accuracy: 0.8311 - val_loss: 1.5422 - val_accuracy: 0.4474\n",
            "Epoch 93/200\n",
            "5/5 [==============================] - 0s 12ms/step - loss: 0.4642 - accuracy: 0.8108 - val_loss: 1.5558 - val_accuracy: 0.4211\n",
            "Epoch 94/200\n",
            "5/5 [==============================] - 0s 13ms/step - loss: 0.4634 - accuracy: 0.8243 - val_loss: 1.6420 - val_accuracy: 0.4211\n",
            "Epoch 95/200\n",
            "5/5 [==============================] - 0s 13ms/step - loss: 0.4101 - accuracy: 0.8581 - val_loss: 1.6335 - val_accuracy: 0.4474\n",
            "Epoch 96/200\n",
            "5/5 [==============================] - 0s 12ms/step - loss: 0.4515 - accuracy: 0.8041 - val_loss: 1.5075 - val_accuracy: 0.4474\n",
            "Epoch 97/200\n",
            "5/5 [==============================] - 0s 11ms/step - loss: 0.4607 - accuracy: 0.7973 - val_loss: 1.4759 - val_accuracy: 0.4211\n",
            "Epoch 98/200\n",
            "5/5 [==============================] - 0s 12ms/step - loss: 0.4937 - accuracy: 0.8311 - val_loss: 1.7454 - val_accuracy: 0.3684\n",
            "Epoch 99/200\n",
            "5/5 [==============================] - 0s 12ms/step - loss: 0.4383 - accuracy: 0.8514 - val_loss: 1.7029 - val_accuracy: 0.3158\n",
            "Epoch 100/200\n",
            "5/5 [==============================] - 0s 13ms/step - loss: 0.4070 - accuracy: 0.8311 - val_loss: 1.5205 - val_accuracy: 0.3684\n",
            "Epoch 101/200\n",
            "5/5 [==============================] - 0s 13ms/step - loss: 0.4086 - accuracy: 0.8108 - val_loss: 1.5342 - val_accuracy: 0.4474\n",
            "Epoch 102/200\n",
            "5/5 [==============================] - 0s 12ms/step - loss: 0.4363 - accuracy: 0.8378 - val_loss: 1.6678 - val_accuracy: 0.3684\n",
            "Epoch 103/200\n",
            "5/5 [==============================] - 0s 11ms/step - loss: 0.4028 - accuracy: 0.8649 - val_loss: 1.5289 - val_accuracy: 0.4737\n",
            "Epoch 104/200\n",
            "5/5 [==============================] - 0s 12ms/step - loss: 0.3997 - accuracy: 0.8378 - val_loss: 1.5036 - val_accuracy: 0.4737\n",
            "Epoch 105/200\n",
            "5/5 [==============================] - 0s 11ms/step - loss: 0.3836 - accuracy: 0.8243 - val_loss: 1.5273 - val_accuracy: 0.4474\n",
            "Epoch 106/200\n",
            "5/5 [==============================] - 0s 15ms/step - loss: 0.3970 - accuracy: 0.8311 - val_loss: 1.6893 - val_accuracy: 0.4474\n",
            "Epoch 107/200\n",
            "5/5 [==============================] - 0s 11ms/step - loss: 0.4449 - accuracy: 0.8041 - val_loss: 1.7609 - val_accuracy: 0.3947\n",
            "Epoch 108/200\n",
            "5/5 [==============================] - 0s 12ms/step - loss: 0.4087 - accuracy: 0.8514 - val_loss: 1.5876 - val_accuracy: 0.4474\n",
            "Epoch 109/200\n",
            "5/5 [==============================] - 0s 12ms/step - loss: 0.4572 - accuracy: 0.8446 - val_loss: 1.5008 - val_accuracy: 0.5000\n",
            "Epoch 110/200\n",
            "5/5 [==============================] - 0s 12ms/step - loss: 0.4269 - accuracy: 0.7703 - val_loss: 1.5278 - val_accuracy: 0.4474\n",
            "Epoch 111/200\n",
            "5/5 [==============================] - 0s 11ms/step - loss: 0.4079 - accuracy: 0.8446 - val_loss: 1.6000 - val_accuracy: 0.3947\n",
            "Epoch 112/200\n",
            "5/5 [==============================] - 0s 12ms/step - loss: 0.5018 - accuracy: 0.8243 - val_loss: 1.6691 - val_accuracy: 0.3684\n",
            "Epoch 113/200\n",
            "5/5 [==============================] - 0s 12ms/step - loss: 0.4317 - accuracy: 0.7838 - val_loss: 1.6689 - val_accuracy: 0.3684\n",
            "Epoch 114/200\n",
            "5/5 [==============================] - 0s 11ms/step - loss: 0.2931 - accuracy: 0.9324 - val_loss: 1.5410 - val_accuracy: 0.3684\n",
            "Epoch 115/200\n",
            "5/5 [==============================] - 0s 12ms/step - loss: 0.4326 - accuracy: 0.8041 - val_loss: 1.6197 - val_accuracy: 0.3947\n",
            "Epoch 116/200\n",
            "5/5 [==============================] - 0s 12ms/step - loss: 0.4156 - accuracy: 0.8446 - val_loss: 1.7335 - val_accuracy: 0.4737\n",
            "Epoch 117/200\n"
          ]
        },
        {
          "name": "stdout",
          "output_type": "stream",
          "text": [
            "5/5 [==============================] - 0s 12ms/step - loss: 0.3819 - accuracy: 0.8514 - val_loss: 1.6817 - val_accuracy: 0.4211\n",
            "Epoch 118/200\n",
            "5/5 [==============================] - 0s 12ms/step - loss: 0.3951 - accuracy: 0.8514 - val_loss: 1.6036 - val_accuracy: 0.3684\n",
            "Epoch 119/200\n",
            "5/5 [==============================] - 0s 12ms/step - loss: 0.3964 - accuracy: 0.8108 - val_loss: 1.7772 - val_accuracy: 0.3158\n",
            "Epoch 120/200\n",
            "5/5 [==============================] - 0s 12ms/step - loss: 0.3093 - accuracy: 0.8784 - val_loss: 1.8007 - val_accuracy: 0.3947\n",
            "Epoch 121/200\n",
            "5/5 [==============================] - 0s 11ms/step - loss: 0.3945 - accuracy: 0.8176 - val_loss: 1.6589 - val_accuracy: 0.4737\n",
            "Epoch 122/200\n",
            "5/5 [==============================] - 0s 12ms/step - loss: 0.3380 - accuracy: 0.8514 - val_loss: 1.6586 - val_accuracy: 0.4474\n",
            "Epoch 123/200\n",
            "5/5 [==============================] - 0s 11ms/step - loss: 0.4210 - accuracy: 0.8311 - val_loss: 1.7772 - val_accuracy: 0.4737\n",
            "Epoch 124/200\n",
            "5/5 [==============================] - 0s 12ms/step - loss: 0.3725 - accuracy: 0.8446 - val_loss: 1.7379 - val_accuracy: 0.4474\n",
            "Epoch 125/200\n",
            "5/5 [==============================] - 0s 12ms/step - loss: 0.3029 - accuracy: 0.8514 - val_loss: 1.6957 - val_accuracy: 0.3684\n",
            "Epoch 126/200\n",
            "5/5 [==============================] - 0s 12ms/step - loss: 0.3567 - accuracy: 0.8581 - val_loss: 1.7874 - val_accuracy: 0.4211\n",
            "Epoch 127/200\n",
            "5/5 [==============================] - 0s 11ms/step - loss: 0.3770 - accuracy: 0.8581 - val_loss: 1.7035 - val_accuracy: 0.4737\n",
            "Epoch 128/200\n",
            "5/5 [==============================] - 0s 12ms/step - loss: 0.3204 - accuracy: 0.8784 - val_loss: 1.6858 - val_accuracy: 0.4737\n",
            "Epoch 129/200\n",
            "5/5 [==============================] - 0s 12ms/step - loss: 0.3510 - accuracy: 0.8514 - val_loss: 1.8124 - val_accuracy: 0.3947\n",
            "Epoch 130/200\n",
            "5/5 [==============================] - 0s 12ms/step - loss: 0.3125 - accuracy: 0.8919 - val_loss: 1.9352 - val_accuracy: 0.4211\n",
            "Epoch 131/200\n",
            "5/5 [==============================] - 0s 12ms/step - loss: 0.3927 - accuracy: 0.8243 - val_loss: 1.7390 - val_accuracy: 0.4737\n",
            "Epoch 132/200\n",
            "5/5 [==============================] - 0s 12ms/step - loss: 0.3541 - accuracy: 0.8514 - val_loss: 1.6314 - val_accuracy: 0.4474\n",
            "Epoch 133/200\n",
            "5/5 [==============================] - 0s 12ms/step - loss: 0.3615 - accuracy: 0.8581 - val_loss: 1.5713 - val_accuracy: 0.4737\n",
            "Epoch 134/200\n",
            "5/5 [==============================] - 0s 12ms/step - loss: 0.3812 - accuracy: 0.8514 - val_loss: 1.6623 - val_accuracy: 0.4737\n",
            "Epoch 135/200\n",
            "5/5 [==============================] - 0s 12ms/step - loss: 0.3155 - accuracy: 0.8581 - val_loss: 1.8115 - val_accuracy: 0.3421\n",
            "Epoch 136/200\n",
            "5/5 [==============================] - 0s 11ms/step - loss: 0.3253 - accuracy: 0.8986 - val_loss: 1.7195 - val_accuracy: 0.3684\n",
            "Epoch 137/200\n",
            "5/5 [==============================] - 0s 11ms/step - loss: 0.3620 - accuracy: 0.8851 - val_loss: 1.7224 - val_accuracy: 0.4737\n",
            "Epoch 138/200\n",
            "5/5 [==============================] - 0s 12ms/step - loss: 0.3366 - accuracy: 0.8649 - val_loss: 1.7211 - val_accuracy: 0.4211\n",
            "Epoch 139/200\n",
            "5/5 [==============================] - 0s 12ms/step - loss: 0.3373 - accuracy: 0.8919 - val_loss: 1.7383 - val_accuracy: 0.3947\n",
            "Epoch 140/200\n",
            "5/5 [==============================] - 0s 12ms/step - loss: 0.2779 - accuracy: 0.9054 - val_loss: 1.7994 - val_accuracy: 0.4737\n",
            "Epoch 141/200\n",
            "5/5 [==============================] - 0s 11ms/step - loss: 0.2960 - accuracy: 0.8919 - val_loss: 1.7067 - val_accuracy: 0.4737\n",
            "Epoch 142/200\n",
            "5/5 [==============================] - 0s 12ms/step - loss: 0.2644 - accuracy: 0.8851 - val_loss: 1.7094 - val_accuracy: 0.4737\n",
            "Epoch 143/200\n",
            "5/5 [==============================] - 0s 11ms/step - loss: 0.3510 - accuracy: 0.8311 - val_loss: 1.7223 - val_accuracy: 0.4737\n",
            "Epoch 144/200\n",
            "5/5 [==============================] - 0s 11ms/step - loss: 0.3487 - accuracy: 0.8378 - val_loss: 1.9204 - val_accuracy: 0.4211\n",
            "Epoch 145/200\n",
            "5/5 [==============================] - 0s 12ms/step - loss: 0.3338 - accuracy: 0.8581 - val_loss: 1.8379 - val_accuracy: 0.3947\n",
            "Epoch 146/200\n",
            "5/5 [==============================] - 0s 11ms/step - loss: 0.2670 - accuracy: 0.9054 - val_loss: 1.8126 - val_accuracy: 0.3684\n",
            "Epoch 147/200\n",
            "5/5 [==============================] - 0s 11ms/step - loss: 0.3235 - accuracy: 0.8649 - val_loss: 1.8339 - val_accuracy: 0.3947\n",
            "Epoch 148/200\n",
            "5/5 [==============================] - 0s 11ms/step - loss: 0.3185 - accuracy: 0.8716 - val_loss: 1.9081 - val_accuracy: 0.3947\n",
            "Epoch 149/200\n",
            "5/5 [==============================] - 0s 11ms/step - loss: 0.3074 - accuracy: 0.8446 - val_loss: 1.8327 - val_accuracy: 0.4474\n",
            "Epoch 150/200\n",
            "5/5 [==============================] - 0s 12ms/step - loss: 0.2911 - accuracy: 0.8784 - val_loss: 1.8834 - val_accuracy: 0.4737\n",
            "Epoch 151/200\n",
            "5/5 [==============================] - 0s 12ms/step - loss: 0.3729 - accuracy: 0.8581 - val_loss: 1.8713 - val_accuracy: 0.4474\n",
            "Epoch 152/200\n",
            "5/5 [==============================] - 0s 12ms/step - loss: 0.3664 - accuracy: 0.8649 - val_loss: 1.9428 - val_accuracy: 0.4211\n",
            "Epoch 153/200\n",
            "5/5 [==============================] - 0s 11ms/step - loss: 0.3090 - accuracy: 0.8649 - val_loss: 2.0816 - val_accuracy: 0.4474\n",
            "Epoch 154/200\n",
            "5/5 [==============================] - 0s 12ms/step - loss: 0.3073 - accuracy: 0.8784 - val_loss: 1.7995 - val_accuracy: 0.4737\n",
            "Epoch 155/200\n",
            "5/5 [==============================] - 0s 11ms/step - loss: 0.2640 - accuracy: 0.9122 - val_loss: 1.6987 - val_accuracy: 0.4737\n",
            "Epoch 156/200\n",
            "5/5 [==============================] - 0s 11ms/step - loss: 0.3753 - accuracy: 0.8581 - val_loss: 1.8876 - val_accuracy: 0.4737\n",
            "Epoch 157/200\n",
            "5/5 [==============================] - 0s 12ms/step - loss: 0.3034 - accuracy: 0.8716 - val_loss: 2.1359 - val_accuracy: 0.3947\n",
            "Epoch 158/200\n",
            "5/5 [==============================] - 0s 12ms/step - loss: 0.2643 - accuracy: 0.8919 - val_loss: 1.8582 - val_accuracy: 0.4211\n",
            "Epoch 159/200\n",
            "5/5 [==============================] - 0s 12ms/step - loss: 0.3257 - accuracy: 0.8919 - val_loss: 1.8119 - val_accuracy: 0.4737\n",
            "Epoch 160/200\n",
            "5/5 [==============================] - 0s 11ms/step - loss: 0.2895 - accuracy: 0.8716 - val_loss: 1.9267 - val_accuracy: 0.4474\n",
            "Epoch 161/200\n",
            "5/5 [==============================] - 0s 12ms/step - loss: 0.3220 - accuracy: 0.8784 - val_loss: 1.9602 - val_accuracy: 0.5000\n",
            "Epoch 162/200\n",
            "5/5 [==============================] - 0s 11ms/step - loss: 0.2714 - accuracy: 0.9189 - val_loss: 1.7644 - val_accuracy: 0.5000\n",
            "Epoch 163/200\n",
            "5/5 [==============================] - 0s 11ms/step - loss: 0.3705 - accuracy: 0.8378 - val_loss: 1.6070 - val_accuracy: 0.4211\n",
            "Epoch 164/200\n",
            "5/5 [==============================] - 0s 11ms/step - loss: 0.2840 - accuracy: 0.8784 - val_loss: 1.7327 - val_accuracy: 0.4211\n",
            "Epoch 165/200\n",
            "5/5 [==============================] - 0s 11ms/step - loss: 0.3040 - accuracy: 0.8986 - val_loss: 1.7110 - val_accuracy: 0.4737\n",
            "Epoch 166/200\n",
            "5/5 [==============================] - 0s 12ms/step - loss: 0.3231 - accuracy: 0.8446 - val_loss: 1.7794 - val_accuracy: 0.4737\n",
            "Epoch 167/200\n",
            "5/5 [==============================] - 0s 14ms/step - loss: 0.2917 - accuracy: 0.9054 - val_loss: 2.0517 - val_accuracy: 0.3684\n",
            "Epoch 168/200\n",
            "5/5 [==============================] - 0s 12ms/step - loss: 0.3125 - accuracy: 0.9122 - val_loss: 1.9271 - val_accuracy: 0.4474\n",
            "Epoch 169/200\n",
            "5/5 [==============================] - 0s 12ms/step - loss: 0.3265 - accuracy: 0.8919 - val_loss: 2.1062 - val_accuracy: 0.4211\n",
            "Epoch 170/200\n",
            "5/5 [==============================] - 0s 12ms/step - loss: 0.3349 - accuracy: 0.8581 - val_loss: 2.2920 - val_accuracy: 0.4211\n",
            "Epoch 171/200\n",
            "5/5 [==============================] - 0s 11ms/step - loss: 0.2838 - accuracy: 0.8919 - val_loss: 1.9833 - val_accuracy: 0.5263\n",
            "Epoch 172/200\n",
            "5/5 [==============================] - 0s 12ms/step - loss: 0.3525 - accuracy: 0.8311 - val_loss: 1.8569 - val_accuracy: 0.5000\n",
            "Epoch 173/200\n",
            "5/5 [==============================] - 0s 12ms/step - loss: 0.3073 - accuracy: 0.8581 - val_loss: 1.9363 - val_accuracy: 0.4211\n",
            "Epoch 174/200\n",
            "5/5 [==============================] - 0s 16ms/step - loss: 0.2721 - accuracy: 0.8919 - val_loss: 2.0267 - val_accuracy: 0.3684\n"
          ]
        },
        {
          "name": "stdout",
          "output_type": "stream",
          "text": [
            "Epoch 175/200\n",
            "5/5 [==============================] - 0s 12ms/step - loss: 0.3144 - accuracy: 0.8716 - val_loss: 2.0703 - val_accuracy: 0.3421\n",
            "Epoch 176/200\n",
            "5/5 [==============================] - 0s 12ms/step - loss: 0.2597 - accuracy: 0.8986 - val_loss: 2.0348 - val_accuracy: 0.3684\n",
            "Epoch 177/200\n",
            "5/5 [==============================] - 0s 11ms/step - loss: 0.2992 - accuracy: 0.8446 - val_loss: 1.8629 - val_accuracy: 0.4474\n",
            "Epoch 178/200\n",
            "5/5 [==============================] - 0s 11ms/step - loss: 0.2577 - accuracy: 0.8986 - val_loss: 1.8955 - val_accuracy: 0.4211\n",
            "Epoch 179/200\n",
            "5/5 [==============================] - 0s 11ms/step - loss: 0.2705 - accuracy: 0.9189 - val_loss: 2.0520 - val_accuracy: 0.4474\n",
            "Epoch 180/200\n",
            "5/5 [==============================] - 0s 11ms/step - loss: 0.2669 - accuracy: 0.8919 - val_loss: 2.1130 - val_accuracy: 0.4474\n",
            "Epoch 181/200\n",
            "5/5 [==============================] - 0s 11ms/step - loss: 0.2547 - accuracy: 0.8851 - val_loss: 2.1005 - val_accuracy: 0.3947\n",
            "Epoch 182/200\n",
            "5/5 [==============================] - 0s 12ms/step - loss: 0.3580 - accuracy: 0.8851 - val_loss: 1.8527 - val_accuracy: 0.4211\n",
            "Epoch 183/200\n",
            "5/5 [==============================] - 0s 11ms/step - loss: 0.2525 - accuracy: 0.9662 - val_loss: 1.9022 - val_accuracy: 0.5263\n",
            "Epoch 184/200\n",
            "5/5 [==============================] - 0s 12ms/step - loss: 0.2749 - accuracy: 0.8986 - val_loss: 2.0446 - val_accuracy: 0.5000\n",
            "Epoch 185/200\n",
            "5/5 [==============================] - 0s 12ms/step - loss: 0.3227 - accuracy: 0.8649 - val_loss: 1.7685 - val_accuracy: 0.5000\n",
            "Epoch 186/200\n",
            "5/5 [==============================] - 0s 12ms/step - loss: 0.3213 - accuracy: 0.8784 - val_loss: 1.8007 - val_accuracy: 0.3684\n",
            "Epoch 187/200\n",
            "5/5 [==============================] - 0s 12ms/step - loss: 0.2701 - accuracy: 0.8919 - val_loss: 1.8572 - val_accuracy: 0.3947\n",
            "Epoch 188/200\n",
            "5/5 [==============================] - 0s 12ms/step - loss: 0.3201 - accuracy: 0.8784 - val_loss: 2.0398 - val_accuracy: 0.3421\n",
            "Epoch 189/200\n",
            "5/5 [==============================] - 0s 12ms/step - loss: 0.3051 - accuracy: 0.8851 - val_loss: 1.9278 - val_accuracy: 0.5000\n",
            "Epoch 190/200\n",
            "5/5 [==============================] - 0s 12ms/step - loss: 0.2075 - accuracy: 0.9392 - val_loss: 1.8683 - val_accuracy: 0.4737\n",
            "Epoch 191/200\n",
            "5/5 [==============================] - 0s 12ms/step - loss: 0.3059 - accuracy: 0.8649 - val_loss: 2.0456 - val_accuracy: 0.4474\n",
            "Epoch 192/200\n",
            "5/5 [==============================] - 0s 11ms/step - loss: 0.3166 - accuracy: 0.8784 - val_loss: 2.2719 - val_accuracy: 0.4474\n",
            "Epoch 193/200\n",
            "5/5 [==============================] - 0s 10ms/step - loss: 0.3862 - accuracy: 0.8514 - val_loss: 2.0941 - val_accuracy: 0.3947\n",
            "Epoch 194/200\n",
            "5/5 [==============================] - 0s 11ms/step - loss: 0.3339 - accuracy: 0.8581 - val_loss: 2.1819 - val_accuracy: 0.3684\n",
            "Epoch 195/200\n",
            "5/5 [==============================] - 0s 11ms/step - loss: 0.2702 - accuracy: 0.8919 - val_loss: 2.2644 - val_accuracy: 0.3158\n",
            "Epoch 196/200\n",
            "5/5 [==============================] - 0s 11ms/step - loss: 0.2951 - accuracy: 0.8716 - val_loss: 2.0055 - val_accuracy: 0.3947\n",
            "Epoch 197/200\n",
            "5/5 [==============================] - 0s 11ms/step - loss: 0.3078 - accuracy: 0.8716 - val_loss: 1.7913 - val_accuracy: 0.4737\n",
            "Epoch 198/200\n",
            "5/5 [==============================] - 0s 11ms/step - loss: 0.3022 - accuracy: 0.8649 - val_loss: 2.0073 - val_accuracy: 0.4474\n",
            "Epoch 199/200\n",
            "5/5 [==============================] - 0s 12ms/step - loss: 0.2624 - accuracy: 0.8986 - val_loss: 2.0304 - val_accuracy: 0.4211\n",
            "Epoch 200/200\n",
            "5/5 [==============================] - 0s 12ms/step - loss: 0.3045 - accuracy: 0.8851 - val_loss: 1.8490 - val_accuracy: 0.4211\n"
          ]
        },
        {
          "data": {
            "text/plain": [
              "<keras.callbacks.History at 0x262df71a820>"
            ]
          },
          "execution_count": 25,
          "metadata": {},
          "output_type": "execute_result"
        }
      ],
      "source": [
        "model.compile(loss='sparse_categorical_crossentropy', optimizer='adam', metrics=['accuracy'])\n",
        "model.fit(train_X, train_Y, epochs = 200, validation_data = (test_X, test_Y))"
      ]
    },
    {
      "cell_type": "code",
      "execution_count": null,
      "id": "bfc9ad14",
      "metadata": {
        "id": "bfc9ad14"
      },
      "outputs": [],
      "source": []
    },
    {
      "cell_type": "code",
      "execution_count": null,
      "id": "beb22b69",
      "metadata": {
        "id": "beb22b69"
      },
      "outputs": [],
      "source": []
    }
  ],
  "metadata": {
    "kernelspec": {
      "display_name": "Python 3",
      "language": "python",
      "name": "python3"
    },
    "language_info": {
      "codemirror_mode": {
        "name": "ipython",
        "version": 3
      },
      "file_extension": ".py",
      "mimetype": "text/x-python",
      "name": "python",
      "nbconvert_exporter": "python",
      "pygments_lexer": "ipython3",
      "version": "3.8.8"
    },
    "toc": {
      "base_numbering": 1,
      "nav_menu": {},
      "number_sections": true,
      "sideBar": true,
      "skip_h1_title": false,
      "title_cell": "Table of Contents",
      "title_sidebar": "Contents",
      "toc_cell": false,
      "toc_position": {},
      "toc_section_display": true,
      "toc_window_display": false
    },
    "colab": {
      "provenance": [],
      "include_colab_link": true
    }
  },
  "nbformat": 4,
  "nbformat_minor": 5
}